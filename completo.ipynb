{
 "cells": [
  {
   "cell_type": "code",
   "execution_count": 5,
   "id": "9a1c01de-21c6-4839-be47-5095838422c2",
   "metadata": {},
   "outputs": [
    {
     "name": "stdout",
     "output_type": "stream",
     "text": [
      "cargado\n"
     ]
    }
   ],
   "source": [
    "def frec_abs(datos_entrada):\n",
    "    \n",
    "    '''\n",
    "    Clases, fa_absoluta = frec_abs(datos_entrada\n",
    "    Regrtesa las clases y frecuencias absolutas \n",
    "    de cada clase dada una lista de datos \n",
    "    \n",
    "    Ejemplo \n",
    "    \n",
    "    datos_entrada 0 [0, 1, 2, 0, 1, 3, 1, 3]\n",
    "    clases, fa_absoluta = frec_abs(datos_entrada)\n",
    "    >>> clases = [0, 1, 2, 3]\n",
    "    >>> fa_absoluta = [2, 3, 1, 2]\n",
    "    '''\n",
    "    \n",
    "    clases, fa_absoluta = [], []\n",
    "    for elemento in datos_entrada:\n",
    "        if elemento not in clases:\n",
    "            clases.append(elemento)\n",
    "            fa_absoluta.append(1)\n",
    "        else:\n",
    "            idx = clases.index(elemento)\n",
    "            fa_absoluta[idx] += 1\n",
    "    return clases, fa_absoluta\n",
    "\n",
    "print (\"cargado\")"
   ]
  },
  {
   "cell_type": "code",
   "execution_count": 6,
   "id": "d9d62789-5fdb-4be8-80b8-43f0547dcdf7",
   "metadata": {},
   "outputs": [
    {
     "name": "stdout",
     "output_type": "stream",
     "text": [
      "Help on function frec_abs in module __main__:\n",
      "\n",
      "frec_abs(datos_entrada)\n",
      "    Clases, fa_absoluta = frec_abs(datos_entrada\n",
      "    Regrtesa las clases y frecuencias absolutas \n",
      "    de cada clase dada una lista de datos \n",
      "    \n",
      "    Ejemplo \n",
      "    \n",
      "    datos_entrada 0 [0, 1, 2, 0, 1, 3, 1, 3]\n",
      "    clases, fa_absoluta = frec_abs(datos_entrada)\n",
      "    >>> clases = [0, 1, 2, 3]\n",
      "    >>> fa_absoluta = [2, 3, 1, 2]\n",
      "\n"
     ]
    }
   ],
   "source": [
    "help(frec_abs)"
   ]
  },
  {
   "cell_type": "code",
   "execution_count": 9,
   "id": "09d493ed-3f82-473f-883a-df5e0d4b2f4f",
   "metadata": {},
   "outputs": [
    {
     "name": "stdout",
     "output_type": "stream",
     "text": [
      "[0, 1, 2, 3]\n",
      "[2, 3, 1, 2]\n"
     ]
    }
   ],
   "source": [
    "datos_entrada = [0, 1, 2, 0, 1, 3, 1, 3]\n",
    "clases, fa_absoluta = frec_abs(datos_entrada)\n",
    "print(clases)\n",
    "print(fa_absoluta)"
   ]
  },
  {
   "cell_type": "code",
   "execution_count": null,
   "id": "80925fd4-db10-4b99-9636-dbfcce77097e",
   "metadata": {},
   "outputs": [],
   "source": [
    "arreglo 0 [0, 5, 7, 6, 4, 2]\n",
    "def ordenar_asc(arregtlo)\n",
    "\n",
    "    '''\n",
    "    Regresa el arreglo ordenado de forma\n",
    "    ascendente \n",
    "    '''\n",
    "    arr_len = len(arreglo)\n",
    "\n",
    "    for i in range(arr_len):\n",
    "        min_idx = i\n",
    "        for j in range(i+1, arr_len):\n",
    "            \n",
    "        \n",
    "    "
   ]
  }
 ],
 "metadata": {
  "kernelspec": {
   "display_name": "Python 3 (ipykernel)",
   "language": "python",
   "name": "python3"
  },
  "language_info": {
   "codemirror_mode": {
    "name": "ipython",
    "version": 3
   },
   "file_extension": ".py",
   "mimetype": "text/x-python",
   "name": "python",
   "nbconvert_exporter": "python",
   "pygments_lexer": "ipython3",
   "version": "3.11.4"
  }
 },
 "nbformat": 4,
 "nbformat_minor": 5
}
