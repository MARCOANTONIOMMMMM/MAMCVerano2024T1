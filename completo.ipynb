{
 "cells": [
  {
   "cell_type": "code",
   "execution_count": null,
   "id": "2dda4766",
   "metadata": {
    "vscode": {
     "languageId": "plaintext"
    }
   },
   "outputs": [],
   "source": [
    "import pandas as pd\n",
    "import matplotlib.pyplot as plt\n",
    "\n",
    "def calcular_frecuencia_relativa(frecuencia_absoluta):\n",
    "    return frecuencia_absoluta / frecuencia_absoluta.sum()\n",
    "\n",
    "def calcular_frecuencia_acumulada(frecuencia_absoluta):\n",
    "    return frecuencia_absoluta.cumsum()\n",
    "\n",
    "# Crear los datos\n",
    "data = {\n",
    "    'Clase': ['RAMIREZ', 'RODRIGUEZ', 'HERNANDEZ', 'GONZALEZ', 'GARCIA', 'MARTINEZ', 'LOPEZ', 'GUTIERREZ', 'PEREZ', 'SANCHEZ', 'FLORES'],\n",
    "    'Frecuencia Absoluta': [6, 9, 15, 12, 14, 12, 10, 4, 6, 8, 4]\n",
    "}\n",
    "\n",
    "# Crear un DataFrame\n",
    "df = pd.DataFrame(data)\n",
    "\n",
    "# Calcular Frecuencia Relativa\n",
    "df['Frecuencia Relativa'] = calcular_frecuencia_relativa(df['Frecuencia Absoluta'])\n",
    "\n",
    "# Calcular Frecuencia Acumulada\n",
    "df['Frecuencia Acumulada'] = calcular_frecuencia_acumulada(df['Frecuencia Absoluta'])\n",
    "\n",
    "# Imprimir el DataFrame\n",
    "print(df.to_string(index=False))\n",
    "\n",
    "# Colores \n",
    "colors = ['skyblue', 'salmon', 'lightgreen', 'orange', 'lightcoral', 'lightblue', 'gold', 'violet', 'lightpink', 'lightgrey', 'cyan']\n",
    "\n",
    "# Crear el gráfico de barras\n",
    "plt.figure(figsize=(10, 6))\n",
    "plt.barh(df['Clase'], df['Frecuencia Absoluta'], color=colors)\n",
    "plt.xlabel('Frecuencia Absoluta')\n",
    "plt.ylabel('Clase')\n",
    "plt.title('Gráfica de barras')\n",
    "plt.grid(axis='x', linestyle='--', alpha=0.6)\n",
    "plt.show()"
   ]
  }
 ],
 "metadata": {
  "kernelspec": {
   "display_name": "Python 3 (ipykernel)",
   "language": "python",
   "name": "python3"
  },
  "language_info": {
   "codemirror_mode": {
    "name": "ipython",
    "version": 3
   },
   "file_extension": ".py",
   "mimetype": "text/x-python",
   "name": "python",
   "nbconvert_exporter": "python",
   "pygments_lexer": "ipython3",
   "version": "3.11.4"
  }
 },
 "nbformat": 4,
 "nbformat_minor": 5
}
